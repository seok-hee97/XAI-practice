{
  "cells": [
    {
      "cell_type": "code",
      "execution_count": null,
      "metadata": {
        "id": "vi4eZgYjY_03"
      },
      "outputs": [],
      "source": [
        "%tensorflow_version 1.x"
      ]
    },
    {
      "cell_type": "code",
      "execution_count": null,
      "metadata": {
        "colab": {
          "base_uri": "https://localhost:8080/",
          "height": 836
        },
        "id": "k9ay4CZ2030g",
        "outputId": "528b0c68-efa0-4407-beb8-aaa5844c1d79"
      },
      "outputs": [
        {
          "name": "stdout",
          "output_type": "stream",
          "text": [
            "WARNING:tensorflow:\n",
            "The TensorFlow contrib module will not be included in TensorFlow 2.0.\n",
            "For more information, please see:\n",
            "  * https://github.com/tensorflow/community/blob/master/rfcs/20180907-contrib-sunset.md\n",
            "  * https://github.com/tensorflow/addons\n",
            "  * https://github.com/tensorflow/io (for I/O related ops)\n",
            "If you depend on functionality not listed there, please file an issue.\n",
            "\n",
            "WARNING:tensorflow:From <ipython-input-2-1c26319eec22>:10: read_data_sets (from tensorflow.contrib.learn.python.learn.datasets.mnist) is deprecated and will be removed in a future version.\n",
            "Instructions for updating:\n",
            "Please use alternatives such as official/mnist/dataset.py from tensorflow/models.\n",
            "WARNING:tensorflow:From /usr/local/lib/python3.6/dist-packages/tensorflow_core/contrib/learn/python/learn/datasets/mnist.py:260: maybe_download (from tensorflow.contrib.learn.python.learn.datasets.base) is deprecated and will be removed in a future version.\n",
            "Instructions for updating:\n",
            "Please write your own downloading logic.\n",
            "WARNING:tensorflow:From /usr/local/lib/python3.6/dist-packages/tensorflow_core/contrib/learn/python/learn/datasets/mnist.py:262: extract_images (from tensorflow.contrib.learn.python.learn.datasets.mnist) is deprecated and will be removed in a future version.\n",
            "Instructions for updating:\n",
            "Please use tf.data to implement this functionality.\n",
            "Extracting MNIST_data/train-images-idx3-ubyte.gz\n",
            "WARNING:tensorflow:From /usr/local/lib/python3.6/dist-packages/tensorflow_core/contrib/learn/python/learn/datasets/mnist.py:267: extract_labels (from tensorflow.contrib.learn.python.learn.datasets.mnist) is deprecated and will be removed in a future version.\n",
            "Instructions for updating:\n",
            "Please use tf.data to implement this functionality.\n",
            "Extracting MNIST_data/train-labels-idx1-ubyte.gz\n",
            "WARNING:tensorflow:From /usr/local/lib/python3.6/dist-packages/tensorflow_core/contrib/learn/python/learn/datasets/mnist.py:110: dense_to_one_hot (from tensorflow.contrib.learn.python.learn.datasets.mnist) is deprecated and will be removed in a future version.\n",
            "Instructions for updating:\n",
            "Please use tf.one_hot on tensors.\n",
            "Extracting MNIST_data/t10k-images-idx3-ubyte.gz\n",
            "Extracting MNIST_data/t10k-labels-idx1-ubyte.gz\n",
            "WARNING:tensorflow:From /usr/local/lib/python3.6/dist-packages/tensorflow_core/contrib/learn/python/learn/datasets/mnist.py:290: DataSet.__init__ (from tensorflow.contrib.learn.python.learn.datasets.mnist) is deprecated and will be removed in a future version.\n",
            "Instructions for updating:\n",
            "Please use alternatives such as official/mnist/dataset.py from tensorflow/models.\n",
            "WARNING:tensorflow:From /usr/local/lib/python3.6/dist-packages/tensorflow_core/contrib/layers/python/layers/layers.py:1057: Layer.apply (from tensorflow.python.keras.engine.base_layer) is deprecated and will be removed in a future version.\n",
            "Instructions for updating:\n",
            "Please use `layer.__call__` method instead.\n",
            "WARNING:tensorflow:From /usr/local/lib/python3.6/dist-packages/tensorflow_core/contrib/layers/python/layers/layers.py:1634: flatten (from tensorflow.python.layers.core) is deprecated and will be removed in a future version.\n",
            "Instructions for updating:\n",
            "Use keras.layers.flatten instead.\n",
            "step 100, training accuracy 0.36\n",
            "step 200, training accuracy 0.8\n",
            "step 300, training accuracy 0.76\n",
            "step 400, training accuracy 0.9\n",
            "step 500, training accuracy 0.96\n",
            "step 600, training accuracy 0.82\n",
            "step 700, training accuracy 0.88\n",
            "step 800, training accuracy 0.86\n",
            "step 900, training accuracy 0.88\n",
            "Accuracy: 90.56%\n"
          ]
        }
      ],
      "source": [
        "\n",
        "\n",
        "import numpy as np\n",
        "import matplotlib.pyplot as plt\n",
        "%matplotlib inline\n",
        "import tensorflow as tf\n",
        "import tensorflow.contrib.slim as slim\n",
        "from tensorflow.examples.tutorials.mnist import input_data\n",
        "\n",
        "# extracting MNIST Dataset\n",
        "mnist = input_data.read_data_sets(\"MNIST_data/\", one_hot=True)\n",
        "\n",
        "# construct CNN\n",
        "# set models tf.reset_default_graph()\n",
        "x = tf.placeholder(tf.float32, [None, 784],name=\"x-in\")\n",
        "true_y = tf.placeholder(tf.float32, [None, 10],name=\"y-in\")\n",
        "keep_prob = tf.placeholder(\"float\")\n",
        "x_image = tf.reshape(x,[-1,28,28,1])\n",
        "\n",
        "# layer 1\n",
        "hidden_1 = slim.conv2d(x_image,5,[5,5])\n",
        "pool_1 = slim.max_pool2d(hidden_1,[2,2])\n",
        "\n",
        "# layer 2\n",
        "hidden_2 = slim.conv2d(pool_1,5,[5,5])\n",
        "pool_2 = slim.max_pool2d(hidden_2,[2,2])\n",
        "\n",
        "# layer 3\n",
        "hidden_3 = slim.conv2d(pool_2,20,[5,5])\n",
        "hidden_3 = slim.dropout(hidden_3,keep_prob)\n",
        "\n",
        "out_y = slim.fully_connected(slim.flatten(hidden_3), 10, activation_fn=tf.nn.softmax)\n",
        "\n",
        "cross_entropy = -tf.reduce_sum(true_y*tf.log(out_y))\n",
        "correct_prediction = tf.equal(tf.argmax(out_y,1), tf.argmax(true_y,1))\n",
        "accuracy = tf.reduce_mean(tf.cast(correct_prediction, \"float\"))\n",
        "train_step = tf.train.AdamOptimizer(1e-4).minimize(cross_entropy)\n",
        "\n",
        "# learning\n",
        "batchSize = 50\n",
        "sess = tf.Session()\n",
        "init = tf.global_variables_initializer()\n",
        "sess.run(init)\n",
        "\n",
        "for i in range(1000):\n",
        "    batch = mnist.train.next_batch(batchSize)\n",
        "    sess.run(train_step, feed_dict={x:batch[0],true_y:batch[1], keep_prob:0.5})\n",
        "    if i % 100 == 0 and i != 0:\n",
        "        trainAccuracy = sess.run(accuracy, feed_dict={x:batch[0], true_y:batch[1], keep_prob:1.0})\n",
        "        print(\"step %d, training accuracy %g\"%(i, trainAccuracy))\n",
        "\n",
        "# print Accuracy\n",
        "print('Accuracy: {:.2%}'.format(sess.run(accuracy, feed_dict={x: mnist.test.images, true_y: mnist.test.labels, keep_prob: 1.0})))\n"
      ]
    },
    {
      "cell_type": "code",
      "execution_count": null,
      "metadata": {
        "id": "KkuQ88ys7YpK"
      },
      "outputs": [],
      "source": [
        "\n",
        "layers = [hidden_1, pool_1, hidden_2, pool_2, hidden_3]\n",
        "weights = tf.get_collection(tf.GraphKeys.TRAINABLE_VARIABLES, scope='.*weights.*')\n",
        "biases = tf.get_collection(tf.GraphKeys.TRAINABLE_VARIABLES, scope='.*biases.*')"
      ]
    },
    {
      "cell_type": "code",
      "execution_count": null,
      "metadata": {
        "id": "Q8xTw5P076Ld"
      },
      "outputs": [],
      "source": [
        "\n",
        "def getActivations(layer, image):\n",
        "    units = sess.run(layer, feed_dict={x: np.reshape(image, [1,784], order='F'), keep_prob:1.0})\n",
        "    return units\n"
      ]
    },
    {
      "cell_type": "code",
      "execution_count": null,
      "metadata": {
        "colab": {
          "base_uri": "https://localhost:8080/",
          "height": 282
        },
        "id": "fRXWOTzu8M-o",
        "outputId": "cb3247f2-135d-4b0a-a864-cf633d56f941"
      },
      "outputs": [
        {
          "data": {
            "text/plain": [
              "<matplotlib.image.AxesImage at 0x7fae878a1588>"
            ]
          },
          "execution_count": 5,
          "metadata": {
            "tags": []
          },
          "output_type": "execute_result"
        },
        {
          "data": {
            "image/png": "[encoded data removed]",
            "text/plain": [
              "<Figure size 432x288 with 1 Axes>"
            ]
          },
          "metadata": {
            "tags": []
          },
          "output_type": "display_data"
        }
      ],
      "source": [
        "\n",
        "# show test image\n",
        "idx = 4\n",
        "imageToUse = mnist.test.images[idx]\n",
        "plt.imshow(np.reshape(imageToUse,[28,28]), interpolation=\"nearest\", cmap='gray')"
      ]
    },
    {
      "cell_type": "code",
      "execution_count": null,
      "metadata": {
        "id": "CG8d_4Wn8e-e"
      },
      "outputs": [],
      "source": [
        "\n",
        "# layers = [hidden_1, pool_1, hidden_2, pool_2, hidden_3]\n",
        "activations = []\n",
        "for layer in layers:\n",
        "    activations.append(getActivations(layer, imageToUse))\n"
      ]
    },
    {
      "cell_type": "code",
      "execution_count": null,
      "metadata": {
        "colab": {
          "base_uri": "https://localhost:8080/",
          "height": 191
        },
        "id": "WJMp2Xbf8qXh",
        "outputId": "984e1deb-d565-4b85-82d3-8179ab890c6e"
      },
      "outputs": [
        {
          "name": "stdout",
          "output_type": "stream",
          "text": [
            "[0] 0.06%\n",
            "[1] 0.00%\n",
            "[2] 0.52%\n",
            "[3] 0.05%\n",
            "[4] 91.26%\n",
            "[5] 0.50%\n",
            "[6] 1.97%\n",
            "[7] 0.12%\n",
            "[8] 0.25%\n",
            "[9] 5.26%\n"
          ]
        }
      ],
      "source": [
        "\n",
        "predict = sess.run(out_y, feed_dict={x: imageToUse.reshape([-1, 784]), keep_prob:1.0})[0]\n",
        "idx = 0\n",
        "for i in predict:\n",
        "    print('[{}] {:.2%}'.format(idx, i))\n",
        "    idx += 1\n"
      ]
    },
    {
      "cell_type": "code",
      "execution_count": null,
      "metadata": {
        "colab": {
          "base_uri": "https://localhost:8080/",
          "height": 34
        },
        "id": "2YVeTWpB81cC",
        "outputId": "db03c1fd-aded-4218-ca22-55f3c74c38a1"
      },
      "outputs": [
        {
          "name": "stdout",
          "output_type": "stream",
          "text": [
            "0.9126395\n"
          ]
        }
      ],
      "source": [
        "\n",
        "\n",
        "f_x = max(predict)\n",
        "print(f_x)"
      ]
    },
    {
      "cell_type": "code",
      "execution_count": null,
      "metadata": {
        "id": "SmnAqzvT9Aqy"
      },
      "outputs": [],
      "source": [
        "\n",
        "# get FC layer gradient\n",
        "def getGradient(activation, weight, bias):\n",
        "    # forward pass\n",
        "    W = tf.maximum(0., weight)\n",
        "    b = tf.maximum(0., bias)\n",
        "    z = tf.matmul(activation, w) + b\n",
        "\n",
        "    # backward pass\n",
        "    dX = tf.matmul(1/z, tf.transpose(W))\n",
        "    return dX\n"
      ]
    },
    {
      "cell_type": "code",
      "execution_count": null,
      "metadata": {
        "colab": {
          "base_uri": "https://localhost:8080/",
          "height": 34
        },
        "id": "nZZSsdYzK8TQ",
        "outputId": "3dbcf679-b1d6-4442-b8bf-e49ea5223a92"
      },
      "outputs": [
        {
          "data": {
            "text/plain": [
              "(10,)"
            ]
          },
          "execution_count": 10,
          "metadata": {
            "tags": []
          },
          "output_type": "execute_result"
        }
      ],
      "source": [
        "\n",
        "R4 = predict\n",
        "R4.shape"
      ]
    },
    {
      "cell_type": "code",
      "execution_count": null,
      "metadata": {
        "id": "SpKTnlpwLWaK"
      },
      "outputs": [],
      "source": [
        "\n",
        "def backprop_dense(activation, weight, bias, relevance):\n",
        "    w = tf.maximum(0., weight)\n",
        "    b = tf.maximum(0., bias)\n",
        "    z = tf.matmul(activation, w) + b\n",
        "    s = relevance / z\n",
        "    c = tf.matmul(s, tf.transpose(w))\n",
        "    return activation * c\n"
      ]
    },
    {
      "cell_type": "code",
      "execution_count": null,
      "metadata": {
        "colab": {
          "base_uri": "https://localhost:8080/",
          "height": 69
        },
        "id": "9s0KYphKLmxP",
        "outputId": "112a2eb6-920a-4784-837d-9b4f80e99b54"
      },
      "outputs": [
        {
          "name": "stdout",
          "output_type": "stream",
          "text": [
            "(1, 7, 7, 20)\n",
            "(980, 10)\n",
            "(1, 980)\n"
          ]
        }
      ],
      "source": [
        "\n",
        "# layers = [hidden_1, pool_1, hidden_2, pool_2, hidden_3]\n",
        "# (1, 28, 28, 5) (1, 14, 14, 5) (1, 7, 7, 20)\n",
        "# activation, weights, biases\n",
        "a = activations.pop()\n",
        "w = weights.pop()\n",
        "b = biases.pop()\n",
        "\n",
        "print(a.shape)\n",
        "print(w.shape)\n",
        "\n",
        "R3 = backprop_dense(a.reshape(1,980), w, b, R4)\n",
        "\n",
        "print(R3.shape)\n"
      ]
    },
    {
      "cell_type": "code",
      "execution_count": null,
      "metadata": {
        "id": "tbgIXdTkMFS1"
      },
      "outputs": [],
      "source": [
        "\n",
        "from tensorflow.python.ops import gen_nn_ops\n",
        "\n",
        "def backprop_pooling(activation, relevance):\n",
        "    # kernel size, strides\n",
        "    # if z is zero\n",
        "    ksize = strides = [1, 2, 2, 1]\n",
        "    z = tf.nn.max_pool(activation, ksize, strides, padding='SAME') + 1e-10\n",
        "    s = relevance / z\n",
        "    # input, argmax, argmax_mask\n",
        "    c = gen_nn_ops.max_pool_grad(activation, z, s, ksize, strides, padding='SAME')\n",
        "    return activation * c\n"
      ]
    },
    {
      "cell_type": "code",
      "execution_count": null,
      "metadata": {
        "id": "3FeiGacjMlZ3"
      },
      "outputs": [],
      "source": [
        "\n",
        "def backprop_conv(activation, weight, bias, relevance):\n",
        "    strides = [1, 1, 1, 1]\n",
        "    w = tf.maximum(0., weight)\n",
        "    b = tf.maximum(0., bias)\n",
        "    z = tf.nn.conv2d(activation, w, strides, padding='SAME')\n",
        "    z = tf.nn.bias_add(z, b)\n",
        "    s = relevance / z\n",
        "    c = tf.nn.conv2d_backprop_input(tf.shape(activation), w, s, strides, padding='SAME')\n",
        "    return activation * c\n"
      ]
    },
    {
      "cell_type": "code",
      "execution_count": null,
      "metadata": {
        "colab": {
          "base_uri": "https://localhost:8080/",
          "height": 69
        },
        "id": "hxxvCniVNEMe",
        "outputId": "11ae839b-df78-46c3-d054-d1b9221001e2"
      },
      "outputs": [
        {
          "name": "stdout",
          "output_type": "stream",
          "text": [
            "(1, 7, 7, 5)\n",
            "(1, 7, 7, 5)\n",
            "(1, 14, 14, 5)\n"
          ]
        }
      ],
      "source": [
        "\n",
        "# layers = [hidden_1, pool_1, hidden_2, pool_2]\n",
        "# (1, 28, 28, 5)(1, 14, 14, 5)(1, 7, 7, 20)\n",
        "# activation, weights, biases\n",
        "w = weights.pop()\n",
        "b = biases.pop()\n",
        "p = activations.pop()\n",
        "a = activations.pop()\n",
        "print(p.shape)\n",
        "\n",
        "# convolution backprop\n",
        "R_conv = backprop_conv(p, w, b, tf.reshape(R3, [1, 7, 7, 20]))\n",
        "print(R_conv.shape)\n",
        "R2 = backprop_pooling(a, R_conv)\n",
        "print(R2.shape)"
      ]
    },
    {
      "cell_type": "code",
      "execution_count": null,
      "metadata": {
        "colab": {
          "base_uri": "https://localhost:8080/",
          "height": 69
        },
        "id": "eQP2Oz54NSA7",
        "outputId": "038591bc-4077-47f2-c2ad-d826398bbd90"
      },
      "outputs": [
        {
          "name": "stdout",
          "output_type": "stream",
          "text": [
            "(1, 14, 14, 5)\n",
            "(1, 28, 28, 5)\n",
            "0.9866709\n"
          ]
        }
      ],
      "source": [
        "\n",
        "# layers = [hidden_1, pool_1]\n",
        "# (1, 28, 28, 5)(1, 14, 14, 5)\n",
        "# activation, weights, biases\n",
        "w = weights.pop()\n",
        "b = biases.pop()\n",
        "p = activations.pop()\n",
        "a = activations.pop()\n",
        "\n",
        "# convolution backprop\n",
        "R_conv = backprop_conv(p, w, b, R2)\n",
        "print(R_conv.shape)\n",
        "\n",
        "R1 = backprop_pooling(a, R_conv)\n",
        "print(R1.shape)\n",
        "print(np.sum(sess.run(R1)))\n"
      ]
    },
    {
      "cell_type": "code",
      "execution_count": null,
      "metadata": {
        "id": "4Ua8Owq1R70l"
      },
      "outputs": [],
      "source": [
        "\n",
        "img_activations = getActivations(x_image, imageToUse)\n",
        "w = weights.pop()\n",
        "b = biases.pop()\n",
        "R0 = backprop_conv(img_activations, w, b, R1)\n",
        "LRP_out = sess.run(R0)"
      ]
    },
    {
      "cell_type": "code",
      "execution_count": null,
      "metadata": {
        "colab": {
          "base_uri": "https://localhost:8080/",
          "height": 282
        },
        "id": "8dzrUIXzR9Gt",
        "outputId": "b0ca73f8-a240-42a5-d5b4-806c48f0868a"
      },
      "outputs": [
        {
          "data": {
            "text/plain": [
              "<matplotlib.image.AxesImage at 0x7fae873a6898>"
            ]
          },
          "execution_count": 18,
          "metadata": {
            "tags": []
          },
          "output_type": "execute_result"
        },
        {
          "data": {
            "image/png": "[encoded data removed]",
            "text/plain": [
              "<Figure size 432x288 with 1 Axes>"
            ]
          },
          "metadata": {
            "tags": []
          },
          "output_type": "display_data"
        }
      ],
      "source": [
        "\n",
        "plt.imshow(LRP_out.reshape(28, 28), interpolation=\"nearest\", cmap=plt.cm.jet)"
      ]
    },
    {
      "cell_type": "code",
      "execution_count": null,
      "metadata": {
        "id": "T11R72fYStmo"
      },
      "outputs": [],
      "source": [
        "\n",
        "def getLRP(img):\n",
        "    predict = sess.run(out_y, feed_dict={x: img.reshape([-1, 784]), keep_prob:1.0})[0]\n",
        "    layers = [hidden_1, pool_1, hidden_2, pool_2, hidden_3]\n",
        "    weights = tf.get_collection(tf.GraphKeys.TRAINABLE_VARIABLES, scope='.*weights.*')\n",
        "    biases = tf.get_collection(tf.GraphKeys.TRAINABLE_VARIABLES, scope='.*biases.*')\n",
        "\n",
        "    # layers = [hidden_1, pool_1, hidden_2, pool_2, hidden_3]\n",
        "    activations = []\n",
        "    for layer in layers:\n",
        "        activations.append(getActivations(layer, img))\n",
        "\n",
        "    # get f_x\n",
        "    f_x = max(predict)\n",
        "\n",
        "    # get R4\n",
        "    predict[predict < 0] = 0\n",
        "    R4 = predict\n",
        "\n",
        "    # get R3\n",
        "    a = activations.pop()\n",
        "    w = weights.pop()\n",
        "    b = biases.pop()\n",
        "    R3 = backprop_dense(a.reshape(1,980), w, b, R4)\n",
        "\n",
        "    # get R2\n",
        "    w = weights.pop()\n",
        "    b = biases.pop()\n",
        "    p = activations.pop()\n",
        "    a = activations.pop()\n",
        "    R_conv = backprop_conv(p, w, b, tf.reshape(R3, [1, 7, 7, 20]))\n",
        "    R2 = backprop_pooling(a, R_conv)\n",
        "\n",
        "    # get R1\n",
        "    w = weights.pop()\n",
        "    b = biases.pop()\n",
        "    p = activations.pop()\n",
        "    a = activations.pop()\n",
        "    R_conv = backprop_conv(p, w, b, R2)\n",
        "    R1 = backprop_pooling(a, R_conv)\n",
        "\n",
        "    # get R0\n",
        "    img_activations = getActivations(x_image, img)\n",
        "    w = weights.pop()\n",
        "    b = biases.pop()\n",
        "    R0 = backprop_conv(img_activations, w, b, R1)\n",
        "    LRP_out = sess.run(R0)\n",
        "    return LRP_out\n"
      ]
    },
    {
      "cell_type": "code",
      "execution_count": null,
      "metadata": {
        "colab": {
          "base_uri": "https://localhost:8080/",
          "height": 729
        },
        "id": "fDlFtltTSuY9",
        "outputId": "51f8f923-c606-4e24-b8ae-1cc93b91a224"
      },
      "outputs": [
        {
          "data": {
            "image/png": "[encoded data removed]",
            "text/plain": [
              "<Figure size 1440x720 with 20 Axes>"
            ]
          },
          "metadata": {
            "tags": []
          },
          "output_type": "display_data"
        }
      ],
      "source": [
        "\n",
        "# get MNIST dataset index dict\n",
        "mnist_dict = {}\n",
        "idx = 0\n",
        "for i in mnist.test.labels:\n",
        "    label = np.where(i == np.amax(i))[0][0]\n",
        "    if mnist_dict.get(label):\n",
        "        mnist_dict[label].append(idx)\n",
        "    else:\n",
        "        mnist_dict[label] = [idx]\n",
        "    idx += 1\n",
        "\n",
        "# get LRP\n",
        "nums = []\n",
        "for i in range(10):\n",
        "    img_idx = mnist_dict[i][0]\n",
        "    img = mnist.test.images[img_idx]\n",
        "    lrp = getLRP(img)\n",
        "    nums.append(lrp)\n",
        "\n",
        "# plot images\n",
        "plt.figure(figsize=(20,10))\n",
        "for i in range(2):\n",
        "    for j in range(5):\n",
        "        idx = 5 * i + j\n",
        "        plt.subplot(2, 5, idx + 1)\n",
        "        plt.title('digit: {}'.format(idx))\n",
        "        plt.imshow(nums[idx].reshape([28, 28]), cmap=plt.cm.jet)\n",
        "        plt.colorbar(orientation='horizontal')\n",
        "plt.tight_layout()\n",
        "sess.close()\n"
      ]
    }
  ],
  "metadata": {
    "colab": {
      "provenance": []
    },
    "kernelspec": {
      "display_name": "Python 3",
      "name": "python3"
    }
  },
  "nbformat": 4,
  "nbformat_minor": 0
}
